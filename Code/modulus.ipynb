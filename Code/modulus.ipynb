{
 "cells": [
  {
   "cell_type": "markdown",
   "metadata": {},
   "source": [
    "# Modulus of Continuity"
   ]
  },
  {
   "cell_type": "markdown",
   "metadata": {},
   "source": [
    "The modulus of continuity for the Fisher's combined p-value is in terms of $\\delta$, the distance between two beta values. Since both ballot polling and ballot comparison tests utilize the same set of risk functions, the formula (in terms of $t$) for the modulus of continuity does not differ between the testing procedures as in SUITE. "
   ]
  },
  {
   "cell_type": "markdown",
   "metadata": {},
   "source": [
    "## kaplan_markov"
   ]
  },
  {
   "cell_type": "markdown",
   "metadata": {},
   "source": [
    "The formula for the `kaplan_markov` risk function is \n",
    "$$\n",
    "p_{KM}\\equiv 1 \\land \\min_{1\\leq j\\leq J} \n",
    "\\prod_{k=1}^j \\frac{t+\\gamma}{x_k+\\gamma}\n",
    "$$\n",
    "\n",
    "For one stratum, we can write $p_{KM}$ in terms of $n$ (number of ballots sampled), $n_w$ (number out of $n$ ballots for the winner), and $n_\\ell$ (number out of $n$ ballots for the loser). \n",
    "\n",
    "\\begin{aligned}\n",
    "p_{KM} =& \\left(\\frac{t+\\gamma}{1+\\gamma}\\right)^{n_w}\n",
    "\\left(\\frac{t+\\gamma}{\\gamma}\\right)^{n_\\ell}\n",
    "\\left(\\frac{t+\\gamma}{1/2+\\gamma}\\right)^{n-n_w-n_\\ell} \\\\\n",
    " =& (t+\\gamma)^{n}\\left(\\frac{1}{1+\\gamma}\\right)^{n_w}\n",
    "\\left(\\frac{1}{\\gamma}\\right)^{n_\\ell}\n",
    "\\left(\\frac{1}{1/2+\\gamma}\\right)^{n-n_w-n_\\ell} \\\\\n",
    "-2\\log p_{KM} =& -2 n\\log(t+\\gamma)-2\\log \\left[\\left(\\frac{1}{1+\\gamma}\\right)^{n_w}\n",
    "\\left(\\frac{1}{\\gamma}\\right)^{n_\\ell}\n",
    "\\left(\\frac{1}{1/2+\\gamma}\\right)^{n-n_w-n_\\ell} \\right]\\\\\n",
    "\\end{aligned}\n",
    "\n",
    "Let $p^*\\equiv-2\\log p_{KM}$. $N_1$ and $N_2$ are the ballots cast in stratum 1 and stratum 2 respectively.\n",
    "\n",
    "From Appendix C of CO18.pdf, the modulus of function $\\log(a\\lambda-b)$ is $\\log(1+a\\delta)$ and the modulus of functions not containing $\\lambda$ are $0$. The resulting modulus of $p^*$ with respect to $t$ is independent of the $n_w, n_\\ell$, the winner's and loser's share of $n$ votes. \n",
    "\n",
    "$$\n",
    "\\omega(p^*(t), \\delta)=2n \\log(1+ \\delta)\n",
    "$$\n"
   ]
  },
  {
   "cell_type": "markdown",
   "metadata": {},
   "source": [
    "**CVR stratum** \n",
    "\n",
    "The assertion in the CVR stratum tests for $t_1=(N_1+N_2)/N_1*\\beta$. The modulus of $t_1$ with respect to $\\beta$ is\n",
    "\n",
    "$$\n",
    "\\omega(t_1(\\beta), \\delta) = (N_1+N_2)/N_1*\\delta\n",
    "$$\n",
    "\n",
    "**No CVR stratum**\n",
    "\n",
    "For any $f$ such that $\\beta_1+\\beta_2=f\\leq 1/2$, we can write $\\beta_2=f-\\beta_1$. Thus, $t_2=(N_1+N_2)/N_2*(f-\\beta)$. The modulus of $t_2$ with respect to $\\beta$ is independent of $f$:  \n",
    "\n",
    "$$\n",
    "\\omega(t_2(\\beta), \\delta) = (N_1+N_2)/N_2*\\delta\n",
    "$$\n",
    "\n",
    "**Combine strata** \n",
    "\n",
    "The composition property $\\omega(p^* \\circ t, \\delta) =\\omega_{p^*}(\\omega_t(\\delta))$ allows us to define the modulus for the combined risk function. \n",
    "\n",
    "$$\n",
    "\\omega_\\chi(\\delta)=2*n_1* \\log\\left(1+\\frac{N_1+N_2}{N_1}\\delta\\right)+2*n_2*\\log\\left( 1+\\frac{N_1+N_2}{N_2}\\delta\\right)\n",
    "$$\n",
    "\n",
    "The number of ballots sampled may be less than $n_1, n_2$ if the ballots are sampled in a random order. Ultilizing $n_1, n_2$ is a conservative estimate of the modulus and is more fitting for the current risk functions. "
   ]
  },
  {
   "cell_type": "code",
   "execution_count": null,
   "metadata": {},
   "outputs": [],
   "source": [
    "def mod_KM(N1, N2, n1, n2):\n",
    "    \"\"\"\n",
    "    Modulus of continuity for kaplan_markov risk function. Assume same risk function is used for both strata\n",
    "\n",
    "    Parameters\n",
    "    ----------\n",
    "    N1 : int\n",
    "        upper bound of ballots cast in stratum 1\n",
    "    N2 : int\n",
    "        upper bound of ballots cast in stratum 2\n",
    "    n1 : int\n",
    "        ballots sampled from stratum 1\n",
    "    n2 : int \n",
    "        ballots sampled from stratum 2\n",
    "    \"\"\"\n",
    "    return lambda delta: 2*n1*np.log(1 + (N1+N2)/N1*delta) + 2*n2*np.log(1 + (N1+N2)/N2*delta)\n"
   ]
  }
 ],
 "metadata": {
  "kernelspec": {
   "display_name": "Python 3",
   "language": "python",
   "name": "python3"
  },
  "language_info": {
   "codemirror_mode": {
    "name": "ipython",
    "version": 3
   },
   "file_extension": ".py",
   "mimetype": "text/x-python",
   "name": "python",
   "nbconvert_exporter": "python",
   "pygments_lexer": "ipython3",
   "version": "3.7.6"
  }
 },
 "nbformat": 4,
 "nbformat_minor": 2
}