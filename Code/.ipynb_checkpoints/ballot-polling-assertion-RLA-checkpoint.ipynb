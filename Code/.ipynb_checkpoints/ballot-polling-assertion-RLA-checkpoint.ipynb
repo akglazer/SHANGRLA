{
 "cells": [
  {
   "cell_type": "markdown",
   "metadata": {},
   "source": [
    "# Ballot Polling Assertion RLA"
   ]
  },
  {
   "cell_type": "code",
   "execution_count": 1,
   "metadata": {},
   "outputs": [],
   "source": [
    "from __future__ import division, print_function\n",
    "\n",
    "import math\n",
    "import json\n",
    "import warnings\n",
    "import numpy as np\n",
    "import pandas as pd\n",
    "import csv\n",
    "import copy\n",
    "\n",
    "from collections import OrderedDict\n",
    "from IPython.display import display, HTML\n",
    "\n",
    "from cryptorandom.cryptorandom import SHA256\n",
    "from cryptorandom.sample import sample_by_index\n",
    "\n",
    "from assertion_audit_utils import \\\n",
    "    Assertion, Assorter, CVR, TestNonnegMean, check_audit_parameters,\\\n",
    "    find_p_values, find_sample_size, new_sample_size, prep_sample, summarize_status,\\\n",
    "    write_audit_parameters\n",
    "from dominion_tools import \\\n",
    "    prep_dominion_manifest, sample_from_manifest, write_cards_sampled"
   ]
  },
  {
   "cell_type": "code",
   "execution_count": 2,
   "metadata": {},
   "outputs": [],
   "source": [
    "seed = 20546205145833673221  # use, e.g., 20 rolls of a 10-sided die. Seed doesn't have to be numeric\n",
    "replacement = False\n",
    "\n",
    "#risk_function = \"kaplan_martingale\"\n",
    "#risk_fn = lambda x: TestNonnegMean.kaplan_martingale(x, N=N_cards)[0]\n",
    "\n",
    "risk_function = \"kaplan_kolmogorov\"\n",
    "risk_fn = lambda x: TestNonnegMean.kaplan_kolmogorov(x, N=N_cards, t=1/3, g=g)\n",
    "\n",
    "g = 0.1\n",
    "N_cards = 146662\n",
    "N_cards_max = 147000 #Upper bound on number of ballots cast \n"
   ]
  },
  {
   "cell_type": "code",
   "execution_count": 3,
   "metadata": {},
   "outputs": [],
   "source": [
    "# Using same files as CVR stratum but treating as no-CVR \n",
    "\n",
    "manifest_file = './Data/N19 ballot manifest with WH location for RLA Upload VBM 11-14.xlsx'\n",
    "manifest_type = 'STYLE'\n",
    "sample_file = './Data/pollingsample.csv'\n",
    "mvr_file = './Data/mvr_prepilot_test.json'\n",
    "\n",
    "log_file = './Data/pollinglog.json'"
   ]
  },
  {
   "cell_type": "code",
   "execution_count": 4,
   "metadata": {},
   "outputs": [],
   "source": [
    "error_rate = 0.002"
   ]
  },
  {
   "cell_type": "code",
   "execution_count": 5,
   "metadata": {},
   "outputs": [],
   "source": [
    "# contests to audit. Edit with details of your contest (eg., Contest 339 is the DA race)\n",
    "contests = {'339':{'risk_limit': 0.05,\n",
    "                     'choice_function':'IRV',\n",
    "                     'n_winners':int(1),\n",
    "                     'candidates':['15','16','17','18'],\n",
    "                     'reported_winners' : ['15'],\n",
    "                     'assertion_file' : './Data/SF2019Nov8Assertions.json'\n",
    "                    }\n",
    "           }"
   ]
  },
  {
   "cell_type": "code",
   "execution_count": 6,
   "metadata": {},
   "outputs": [],
   "source": [
    "# read the assertions for the IRV contest\n",
    "for c in contests:\n",
    "    if contests[c]['choice_function'] == 'IRV':\n",
    "        with open(contests[c]['assertion_file'], 'r') as f:\n",
    "            contests[c]['assertion_json'] = json.load(f)['audits'][0]['assertions']"
   ]
  },
  {
   "cell_type": "code",
   "execution_count": 7,
   "metadata": {},
   "outputs": [],
   "source": [
    "all_assertions = Assertion.make_all_assertions(contests)"
   ]
  },
  {
   "cell_type": "code",
   "execution_count": 8,
   "metadata": {},
   "outputs": [
    {
     "data": {
      "text/plain": [
       "{'339': {'18 v 17 elim 15 16 45': <assertion_audit_utils.Assertion at 0x2c57ec93148>,\n",
       "  '17 v 16 elim 15 18 45': <assertion_audit_utils.Assertion at 0x2c57ec910c8>,\n",
       "  '15 v 18 elim 16 17 45': <assertion_audit_utils.Assertion at 0x2c57ec91088>,\n",
       "  '18 v 16 elim 15 17 45': <assertion_audit_utils.Assertion at 0x2c57ec91648>,\n",
       "  '17 v 16 elim 15 45': <assertion_audit_utils.Assertion at 0x2c57ec93c48>,\n",
       "  '15 v 17 elim 16 45': <assertion_audit_utils.Assertion at 0x2c57ec93e88>,\n",
       "  '15 v 17 elim 16 18 45': <assertion_audit_utils.Assertion at 0x2c57ec93648>,\n",
       "  '18 v 16 elim 15 45': <assertion_audit_utils.Assertion at 0x2c57ec89f08>,\n",
       "  '15 v 16 elim 17 45': <assertion_audit_utils.Assertion at 0x2c57ec89608>,\n",
       "  '15 v 16 elim 17 18 45': <assertion_audit_utils.Assertion at 0x2c57ec89fc8>,\n",
       "  '15 v 16 elim 18 45': <assertion_audit_utils.Assertion at 0x2c57ec89088>,\n",
       "  '15 v 16 elim 45': <assertion_audit_utils.Assertion at 0x2c57ec891c8>,\n",
       "  '15 v 45': <assertion_audit_utils.Assertion at 0x2c57ec89ac8>}}"
      ]
     },
     "execution_count": 8,
     "metadata": {},
     "output_type": "execute_result"
    }
   ],
   "source": [
    "all_assertions"
   ]
  },
  {
   "cell_type": "markdown",
   "metadata": {},
   "source": [
    "## Read the ballot manifest"
   ]
  },
  {
   "cell_type": "code",
   "execution_count": 9,
   "metadata": {
    "tags": []
   },
   "outputs": [
    {
     "data": {
      "text/html": [
       "<div>\n",
       "<style scoped>\n",
       "    .dataframe tbody tr th:only-of-type {\n",
       "        vertical-align: middle;\n",
       "    }\n",
       "\n",
       "    .dataframe tbody tr th {\n",
       "        vertical-align: top;\n",
       "    }\n",
       "\n",
       "    .dataframe thead th {\n",
       "        text-align: right;\n",
       "    }\n",
       "</style>\n",
       "<table border=\"1\" class=\"dataframe\">\n",
       "  <thead>\n",
       "    <tr style=\"text-align: right;\">\n",
       "      <th></th>\n",
       "      <th>Tray #</th>\n",
       "      <th>Tabulator Number</th>\n",
       "      <th>Batch Number</th>\n",
       "      <th>Total Ballots</th>\n",
       "      <th>VBMCart.Cart number</th>\n",
       "      <th>cum_cards</th>\n",
       "    </tr>\n",
       "  </thead>\n",
       "  <tbody>\n",
       "    <tr>\n",
       "      <th>0</th>\n",
       "      <td>1</td>\n",
       "      <td>99808</td>\n",
       "      <td>78</td>\n",
       "      <td>116</td>\n",
       "      <td>3</td>\n",
       "      <td>116</td>\n",
       "    </tr>\n",
       "    <tr>\n",
       "      <th>1</th>\n",
       "      <td>1</td>\n",
       "      <td>99808</td>\n",
       "      <td>77</td>\n",
       "      <td>115</td>\n",
       "      <td>3</td>\n",
       "      <td>231</td>\n",
       "    </tr>\n",
       "    <tr>\n",
       "      <th>2</th>\n",
       "      <td>1</td>\n",
       "      <td>99808</td>\n",
       "      <td>79</td>\n",
       "      <td>120</td>\n",
       "      <td>3</td>\n",
       "      <td>351</td>\n",
       "    </tr>\n",
       "    <tr>\n",
       "      <th>3</th>\n",
       "      <td>1</td>\n",
       "      <td>99808</td>\n",
       "      <td>81</td>\n",
       "      <td>76</td>\n",
       "      <td>3</td>\n",
       "      <td>427</td>\n",
       "    </tr>\n",
       "    <tr>\n",
       "      <th>4</th>\n",
       "      <td>1</td>\n",
       "      <td>99808</td>\n",
       "      <td>80</td>\n",
       "      <td>116</td>\n",
       "      <td>3</td>\n",
       "      <td>543</td>\n",
       "    </tr>\n",
       "    <tr>\n",
       "      <th>...</th>\n",
       "      <td>...</td>\n",
       "      <td>...</td>\n",
       "      <td>...</td>\n",
       "      <td>...</td>\n",
       "      <td>...</td>\n",
       "      <td>...</td>\n",
       "    </tr>\n",
       "    <tr>\n",
       "      <th>5477</th>\n",
       "      <td>3506</td>\n",
       "      <td>99815</td>\n",
       "      <td>84</td>\n",
       "      <td>222</td>\n",
       "      <td>19</td>\n",
       "      <td>292779</td>\n",
       "    </tr>\n",
       "    <tr>\n",
       "      <th>5478</th>\n",
       "      <td>3506</td>\n",
       "      <td>99815</td>\n",
       "      <td>83</td>\n",
       "      <td>346</td>\n",
       "      <td>19</td>\n",
       "      <td>293125</td>\n",
       "    </tr>\n",
       "    <tr>\n",
       "      <th>5479</th>\n",
       "      <td>3506</td>\n",
       "      <td>99815</td>\n",
       "      <td>82</td>\n",
       "      <td>332</td>\n",
       "      <td>19</td>\n",
       "      <td>293457</td>\n",
       "    </tr>\n",
       "    <tr>\n",
       "      <th>5480</th>\n",
       "      <td>3507</td>\n",
       "      <td>99802</td>\n",
       "      <td>822</td>\n",
       "      <td>98</td>\n",
       "      <td>14</td>\n",
       "      <td>293555</td>\n",
       "    </tr>\n",
       "    <tr>\n",
       "      <th>5481</th>\n",
       "      <td>None</td>\n",
       "      <td>phantom</td>\n",
       "      <td>1</td>\n",
       "      <td>338</td>\n",
       "      <td>None</td>\n",
       "      <td>293893</td>\n",
       "    </tr>\n",
       "  </tbody>\n",
       "</table>\n",
       "<p>5482 rows × 6 columns</p>\n",
       "</div>"
      ],
      "text/plain": [
       "     Tray # Tabulator Number Batch Number  Total Ballots VBMCart.Cart number  \\\n",
       "0         1            99808           78            116                   3   \n",
       "1         1            99808           77            115                   3   \n",
       "2         1            99808           79            120                   3   \n",
       "3         1            99808           81             76                   3   \n",
       "4         1            99808           80            116                   3   \n",
       "...     ...              ...          ...            ...                 ...   \n",
       "5477   3506            99815           84            222                  19   \n",
       "5478   3506            99815           83            346                  19   \n",
       "5479   3506            99815           82            332                  19   \n",
       "5480   3507            99802          822             98                  14   \n",
       "5481   None          phantom            1            338                None   \n",
       "\n",
       "      cum_cards  \n",
       "0           116  \n",
       "1           231  \n",
       "2           351  \n",
       "3           427  \n",
       "4           543  \n",
       "...         ...  \n",
       "5477     292779  \n",
       "5478     293125  \n",
       "5479     293457  \n",
       "5480     293555  \n",
       "5481     293893  \n",
       "\n",
       "[5482 rows x 6 columns]"
      ]
     },
     "execution_count": 9,
     "metadata": {},
     "output_type": "execute_result"
    }
   ],
   "source": [
    "manifest = pd.read_excel(manifest_file)\n",
    "\n",
    "# prep dominion_manifest w/o cvr processing\n",
    "cols = ['Tray #', 'Tabulator Number', 'Batch Number', 'Total Ballots', 'VBMCart.Cart number']\n",
    "assert set(cols).issubset(manifest.columns), \"missing columns\"\n",
    "manifest_cards = manifest['Total Ballots'].sum()\n",
    "if N_cards < N_cards_max:\n",
    "    warnings.warn('The CVR list does not account for every card cast in the contest; adding a phantom batch to the manifest')\n",
    "    r = {'Tray #': None, 'Tabulator Number': 'phantom', 'Batch Number': 1, \\\n",
    "            'Total Ballots': N_cards_max-N_cards, 'VBMCart.Cart number': None}\n",
    "    manifest = manifest.append(r, ignore_index = True)\n",
    "manifest['cum_cards'] = manifest['Total Ballots'].cumsum()    \n",
    "for c in ['Tray #', 'Tabulator Number', 'Batch Number', 'VBMCart.Cart number']:\n",
    "    manifest[c] = manifest[c].astype(str)\n",
    "phantom_cards = N_cards_max-N_cards\n",
    "#manifest, manifest_cards, phantom_cards = prep_dominion_manifest(manifest, N_cards, N_cards_max)\n",
    "\n",
    "manifest\n"
   ]
  },
  {
   "cell_type": "code",
   "execution_count": 10,
   "metadata": {},
   "outputs": [],
   "source": [
    "# read cvrs: not needed?!"
   ]
  },
  {
   "cell_type": "code",
   "execution_count": 11,
   "metadata": {},
   "outputs": [],
   "source": [
    "check_audit_parameters(risk_function, g, error_rate, contests)"
   ]
  },
  {
   "cell_type": "code",
   "execution_count": 13,
   "metadata": {
    "tags": []
   },
   "outputs": [
    {
     "data": {
      "text/plain": [
       "'\\nwrite_audit_parameters(log_file=log_file, seed=seed, replacement=replacement,     risk_function=risk_function, g=g, N_cards=N_cards, n_cvrs=0, manifest_cards=manifest_cards,         phantom_cards=phantom_cards, error_rate=error_rate,             contests=contests)\\n'"
      ]
     },
     "execution_count": 13,
     "metadata": {},
     "output_type": "execute_result"
    }
   ],
   "source": [
    "n_cvrs = 0\n",
    "write_audit_parameters(log_file, seed, replacement, risk_function, g, N_cards, n_cvrs, \\\n",
    "                       manifest_cards, phantom_cards, error_rate, contests)\n",
    "'''\n",
    "write_audit_parameters(log_file=log_file, seed=seed, replacement=replacement, \\\n",
    "    risk_function=risk_function, g=g, N_cards=N_cards, n_cvrs=0, manifest_cards=manifest_cards, \\\n",
    "        phantom_cards=phantom_cards, error_rate=error_rate, \\\n",
    "            contests=contests)\n",
    "'''\n",
    "#n_cvrs = 0\n",
    "#write_audit_parameters(log_file, seed, replacement, risk_function, g, N_cards, n_cvrs, \\\n",
    "#    manifest_cards, phantom_cards, error_rate, contests)\n"
   ]
  },
  {
   "cell_type": "markdown",
   "metadata": {},
   "source": [
    "## Set up for sampling"
   ]
  },
  {
   "cell_type": "markdown",
   "metadata": {},
   "source": [
    "## Find initial sample size"
   ]
  },
  {
   "cell_type": "code",
   "execution_count": 14,
   "metadata": {},
   "outputs": [],
   "source": [
    "# TODO ? ballot polling\n",
    "sample_size = 200"
   ]
  },
  {
   "cell_type": "markdown",
   "metadata": {},
   "source": [
    "## Draw the first sample"
   ]
  },
  {
   "cell_type": "code",
   "execution_count": 15,
   "metadata": {
    "tags": []
   },
   "outputs": [
    {
     "name": "stdout",
     "output_type": "stream",
     "text": [
      "The sample includes 2 phantom cards.\n"
     ]
    }
   ],
   "source": [
    "prng = SHA256(seed)\n",
    "sample = sample_by_index(N_cards_max, sample_size, prng=prng)\n",
    "n_phantom_sample = np.sum([i>N_cards for i in sample]) #TODO\n",
    "print(\"The sample includes {} phantom cards.\".format(n_phantom_sample))\n",
    "print(sample)"
   ]
  },
  {
   "cell_type": "code",
   "execution_count": 27,
   "metadata": {
    "tags": []
   },
   "outputs": [
    {
     "name": "stdout",
     "output_type": "stream",
     "text": [
      "[ 69999  23906  39510 114714  58087  96085  22366 130567 102040  58431\n",
      "  15787  62055  68838  95872  12069  24119  70415   2781 107481  67972\n",
      "  93133  84033  25189 132056  87262  45463 125559 126663 104427  65134\n",
      " 135198  61702 132943  92507  73582  78464  59882  56033 144047  58343\n",
      "  91146 126592    823   2124  20599 143661  98414  91437 101811  96674\n",
      " 135236  84060  83677  47978 104803   9154  73646  45063 105083  42539\n",
      "  67636 113876  38652  46176  60817 101723  47808  96391 112982  78952\n",
      " 108493  82089  52371  41765  75914 130679  32624 131989 124900  55086\n",
      "  51578     92  19704  65356  31529  94183 116793 144189 102782 146954\n",
      "  67976 135246  23749  96259 118185  32670 113007 134142  58099 104324\n",
      "  57062  23442 107997 106637 113673  66043  41445  25799 146935 102929\n",
      "  75997  40482   4020  76436  13827  74228 126546  50367  17924   9147\n",
      "  80551  50522  40404  16502 121526 107030 117061  67977 118242  92587\n",
      "  77111 100239 139599  68527 146192  26899  81450  29325  69084  30734\n",
      "  10851  64061 134197  46315  70185  28797 143942  25273 132401 101395\n",
      "   5623 106238 131018  30971  63761  85121  75917  84167   1376  10692\n",
      " 121829  91702 135460  96191  74530  91310 100597  54967 102032  11333\n",
      "  39212  76905 140667 104238  37034  13473  74490  56195  70578 139256\n",
      " 118157 144500  16120  36888  70218  50785 128497  97140 144793  24201\n",
      " 101677  90141  66069 104571  21480  31492 138633  98107   9160  93703]\n",
      "(array([89], dtype=int64),) (array([108], dtype=int64),)\n"
     ]
    }
   ],
   "source": [
    "phantom_ballots = sample[sample>N_cards]\n",
    "print(sample)\n",
    "print(np.where(sample==phantom_ballots[0]), np.where(sample==phantom_ballots[1]))"
   ]
  },
  {
   "cell_type": "code",
   "execution_count": 16,
   "metadata": {
    "tags": []
   },
   "outputs": [],
   "source": [
    "manifest_sample_lookup = sample_from_manifest(manifest, sample)\n",
    "#print(manifest_sample_lookup)"
   ]
  },
  {
   "cell_type": "code",
   "execution_count": 17,
   "metadata": {},
   "outputs": [],
   "source": [
    "write_cards_sampled(sample_file, manifest_sample_lookup, print_phantoms=True)"
   ]
  },
  {
   "cell_type": "markdown",
   "metadata": {},
   "source": [
    "## Read the audited sample data"
   ]
  },
  {
   "cell_type": "code",
   "execution_count": 18,
   "metadata": {
    "tags": []
   },
   "outputs": [
    {
     "name": "stdout",
     "output_type": "stream",
     "text": [
      "id: 99807-3-2 votes: {'339': {'16': 3, '17': 2, '18': 1}} phantom: False\n",
      "id: 99809-27-41 votes: {'339': {'15': 3, '16': 1, '17': 4, '18': 2}} phantom: False\n",
      "id: 99807-4-20 votes: {'339': {'15': 1, '17': 2}} phantom: False\n",
      "id: 99805-68-45 votes: {'339': {'15': 4, '16': 1, '17': 2, '18': 3}} phantom: False\n",
      "id: 99805-30-44 votes: {'339': {'15': 3, '16': 2, '17': 1, '18': 4}} phantom: False\n",
      "id: 99805-30-89 votes: {'339': {'15': 2, '17': 1}} phantom: False\n",
      "id: 99808-28-57 votes: {'339': {'17': 1}} phantom: False\n",
      "id: 99811-26-37 votes: {'339': {'18': 1}} phantom: False\n",
      "id: 99804-19-38 votes: {'339': {'15': 2, '18': 1}} phantom: False\n",
      "id: 99802-15-23 votes: {'339': {'15': 3, '16': 4, '17': 1, '18': 2}} phantom: False\n"
     ]
    }
   ],
   "source": [
    "with open(mvr_file) as f:\n",
    "    mvr_json = json.load(f)\n",
    "\n",
    "mvr_sample = CVR.from_dict(mvr_json['ballots'])\n",
    "\n",
    "for i in range(10):\n",
    "    print(mvr_sample[i])"
   ]
  },
  {
   "cell_type": "markdown",
   "metadata": {},
   "source": [
    "## Find measured risks for all assertions"
   ]
  },
  {
   "cell_type": "code",
   "execution_count": 28,
   "metadata": {
    "tags": []
   },
   "outputs": [
    {
     "name": "stdout",
     "output_type": "stream",
     "text": [
      "1.0 1.0 \n",
      "\n",
      "1.0 0.5 \n",
      "\n",
      "0.0 0.0 \n",
      "\n",
      "1.0 1.0 \n",
      "\n",
      "0.5 0.5 \n",
      "\n",
      "0.5 0.5 \n",
      "\n",
      "0.0 0.5 \n",
      "\n",
      "1.0 1.0 \n",
      "\n",
      "0.5 0.5 \n",
      "\n",
      "0.5 0.5 \n",
      "\n",
      "0.5 0.5 \n",
      "\n",
      "0.5 0.5 \n",
      "\n",
      "0.5 0.5 \n",
      "\n"
     ]
    }
   ],
   "source": [
    "p_max = 0\n",
    "for c in contests.keys():\n",
    "    contests[c]['p_values'] = {}\n",
    "    contests[c]['proved'] = {}\n",
    "    contest_max_p = 0\n",
    "\n",
    "    for asrtn in all_assertions[c]:\n",
    "        a = all_assertions[c][asrtn]\n",
    "        d = [a.assorter.assort(i) for i in mvr_sample]\n",
    "        #print(d, '\\n', a.assorter_mean(mvr_sample), '\\n')\n",
    "        print(d[89], d[108], '\\n')\n",
    "        a.p_value = risk_fn(d)\n",
    "        #print(a.p_value, '\\n')\n",
    "        a.proved = (a.p_value <= contests[c]['risk_limit'])\n",
    "        contests[c]['p_values'].update({asrtn: a.p_value})\n",
    "        contests[c]['proved'].update({asrtn: int(a.proved)})\n",
    "        contest_max_p = np.max([contest_max_p, a.p_value])\n",
    "\n",
    "    contests[c].update({'max_p': contest_max_p})\n",
    "    p_max = np.max([p_max, contests[c]['max_p']])\n",
    "#print(contests['339']['p_values'], '\\n', contests['339']['proved'])"
   ]
  },
  {
   "cell_type": "code",
   "execution_count": 20,
   "metadata": {
    "tags": []
   },
   "outputs": [
    {
     "name": "stdout",
     "output_type": "stream",
     "text": [
      "maximum assertion p-value 0.09648735152865984\n",
      "p-values for assertions in contest 339\n",
      "18 v 17 elim 15 16 45 0.017131462872821586\n",
      "17 v 16 elim 15 18 45 0.0008608892161843159\n",
      "15 v 18 elim 16 17 45 0.09648735152865984\n",
      "18 v 16 elim 15 17 45 1.5352691149579148e-10\n",
      "17 v 16 elim 15 45 3.31448375276036e-14\n",
      "15 v 17 elim 16 45 6.522662675221176e-10\n",
      "15 v 17 elim 16 18 45 6.973094458142873e-07\n",
      "18 v 16 elim 15 45 5.308512042863627e-20\n",
      "15 v 16 elim 17 45 3.913408320026705e-18\n",
      "15 v 16 elim 17 18 45 1.5954041110126188e-10\n",
      "15 v 16 elim 18 45 1.4115146365349999e-22\n",
      "15 v 16 elim 45 3.812110397723145e-26\n",
      "15 v 45 7.891115024017424e-45\n",
      "\n",
      "contest 339 audit INCOMPLETE at risk limit 0.05. Attained risk 0.09648735152865984\n",
      "assertions remaining to be proved:\n",
      "15 v 18 elim 16 17 45: current risk 0.09648735152865984\n"
     ]
    }
   ],
   "source": [
    "print(\"maximum assertion p-value {}\".format(p_max))\n",
    "done = summarize_status(contests, all_assertions)"
   ]
  },
  {
   "cell_type": "code",
   "execution_count": 21,
   "metadata": {},
   "outputs": [],
   "source": [
    "write_audit_parameters(log_file, seed, replacement, risk_function, g, N_cards, n_cvrs, \\\n",
    "                       manifest_cards, phantom_cards, error_rate, contests)"
   ]
  },
  {
   "cell_type": "code",
   "execution_count": null,
   "metadata": {},
   "outputs": [],
   "source": []
  }
 ],
 "metadata": {
  "kernelspec": {
   "display_name": "Python 3",
   "language": "python",
   "name": "python3"
  },
  "language_info": {
   "codemirror_mode": {
    "name": "ipython",
    "version": 3
   },
   "file_extension": ".py",
   "mimetype": "text/x-python",
   "name": "python",
   "nbconvert_exporter": "python",
   "pygments_lexer": "ipython3",
   "version": "3.7.6"
  }
 },
 "nbformat": 4,
 "nbformat_minor": 2
}
