{
 "cells": [
  {
   "cell_type": "markdown",
   "metadata": {},
   "source": [
    "# Ballot Polling Assertion RLA Examples"
   ]
  },
  {
   "cell_type": "code",
   "execution_count": 1,
   "metadata": {},
   "outputs": [],
   "source": [
    "from __future__ import division, print_function\n",
    "\n",
    "import math\n",
    "import json\n",
    "import warnings\n",
    "import numpy as np\n",
    "import copy\n",
    "\n",
    "from collections import OrderedDict\n",
    "\n",
    "from assertion_audit_utils import \\\n",
    "    Assertion, Assorter, CVR, TestNonnegMean, check_audit_parameters,\\\n",
    "    find_p_values, summarize_status"
   ]
  },
  {
   "cell_type": "markdown",
   "metadata": {},
   "source": [
    "## Example 1: small election, large margin\n",
    "\n",
    "This election is between Alice and Bob and contains 100 ballots. The reported winner is Alice with 70% of the valid votes. \n",
    "\n",
    "Candidate | total \n",
    "---|---\n",
    "Alice | 70\n",
    "Bob | 30\n",
    "Ballots | 100\n",
    "\n",
    "\n",
    "A sample of 30 ballots (simulated from ASN) is drawn from 100 ballots with and without replacement. 73.33% (22/30 cards) of the sample is for Alice and 26.67% (8/30 cards) of the ballots is for Bob. The example audits are done with and without replacement using the `wald_sprt` and `kaplan_kolmogorov` risk functions respectively. "
   ]
  },
  {
   "cell_type": "code",
   "execution_count": 2,
   "metadata": {},
   "outputs": [],
   "source": [
    "contests = {'339':{'risk_limit': 0.05,\n",
    "                        'choice_function': 'plurality',\n",
    "                        'n_winners': 1,\n",
    "                        'candidates': ['Alice', 'Bob'],\n",
    "                        'reported_winners': ['Alice']\n",
    "                        }\n",
    "            }\n",
    "\n",
    "mvr_file = './Data/mvr_polling_example_1.json'\n",
    "manifest_type = 'STYLE'"
   ]
  },
  {
   "cell_type": "code",
   "execution_count": 3,
   "metadata": {},
   "outputs": [],
   "source": [
    "all_assertions = Assertion.make_all_assertions(contests)"
   ]
  },
  {
   "cell_type": "code",
   "execution_count": 4,
   "metadata": {},
   "outputs": [],
   "source": [
    "with open(mvr_file) as f:\n",
    "    mvr_json = json.load(f)\n",
    "\n",
    "mvr_sample = CVR.from_dict(mvr_json['ballots'])"
   ]
  },
  {
   "cell_type": "markdown",
   "metadata": {
    "tags": []
   },
   "source": [
    "### With replacement\n"
   ]
  },
  {
   "cell_type": "code",
   "execution_count": 5,
   "metadata": {},
   "outputs": [],
   "source": [
    "risk_fn = lambda x: TestNonnegMean.wald_sprt(np.array(x), N=N_cards, t=t, p1=p1, random_order=False)\n",
    "\n",
    "N_cards = np.inf\n",
    "t=1/2\n",
    "p1=0.7"
   ]
  },
  {
   "cell_type": "code",
   "execution_count": 6,
   "metadata": {
    "tags": []
   },
   "outputs": [
    {
     "output_type": "stream",
     "name": "stdout",
     "text": "maximum assertion p-value 0.036305566021550766\n"
    }
   ],
   "source": [
    "p_max = find_p_values(contests, all_assertions, risk_fn, manifest_type, mvr_sample)\n",
    "print(\"maximum assertion p-value {}\".format(p_max))\n",
    "np.testing.assert_almost_equal(p_max, (t/p1)**22 * np.divide(1-t, 1-p1)**8)"
   ]
  },
  {
   "cell_type": "markdown",
   "metadata": {},
   "source": [
    "### Without replacement"
   ]
  },
  {
   "cell_type": "code",
   "execution_count": 7,
   "metadata": {},
   "outputs": [],
   "source": [
    "risk_fn = lambda x: TestNonnegMean.kaplan_kolmogorov(np.array(x), N=N_cards, t=t, g=g, random_order=False)\n",
    "\n",
    "N_cards = 100\n",
    "t=1/2\n",
    "g=0.1"
   ]
  },
  {
   "cell_type": "code",
   "execution_count": 8,
   "metadata": {
    "tags": []
   },
   "outputs": [
    {
     "output_type": "stream",
     "name": "stdout",
     "text": "maximum assertion p-value 0.07715494796551615\n"
    }
   ],
   "source": [
    "p_max = find_p_values(contests, all_assertions, risk_fn, manifest_type, mvr_sample)\n",
    "print(\"maximum assertion p-value {}\".format(p_max))\n",
    "\n",
    "np.testing.assert_almost_equal(p_max, 1.1**-22 * 0.6 * np.prod(np.divide(np.linspace(60, 38, 21), \\\n",
    "                                np.arange(79, 100))) * 0.1**-8 * (np.prod(np.divide(np.linspace(36.9, 36.2, 8), \\\n",
    "                                    np.arange(71, 79)))))\n"
   ]
  },
  {
   "cell_type": "markdown",
   "metadata": {},
   "source": [
    "## Example 2: Medium election, large margin\n",
    "\n",
    "This election is between Alice and Bob and contains 10000 ballots. The reported winner is Alice with 60% of the valid votes. \n",
    "\n",
    "Candidate | total \n",
    "---|---\n",
    "Alice | 6000\n",
    "Bob | 4000\n",
    "Ballots | 10000\n",
    "\n",
    "A sample of 200 ballots is drawn from 10000 ballots with and without replacement. The sample shows 65% (130/200 cards) of the ballots are for Alice and 35% (70/200 cards) of the ballots are for Bob. The example audits are done with and without replacement using the `wald_sprt` and `kaplan_kolmogorov` risk functions respectively. "
   ]
  },
  {
   "cell_type": "code",
   "execution_count": 9,
   "metadata": {},
   "outputs": [],
   "source": [
    "#contests to audit\n",
    "contests = {'339':{'risk_limit': 0.05,\n",
    "                        'choice_function': 'plurality',\n",
    "                        'n_winners': 1,\n",
    "                        'candidates': ['Alice', 'Bob'],\n",
    "                        'reported_winners': ['Alice']\n",
    "                        }\n",
    "            }\n",
    "\n",
    "mvr_file = './Data/mvr_polling_example_2.json'\n",
    "manifest_type = 'STYLE'"
   ]
  },
  {
   "cell_type": "code",
   "execution_count": 10,
   "metadata": {},
   "outputs": [],
   "source": [
    "all_assertions = Assertion.make_all_assertions(contests)"
   ]
  },
  {
   "cell_type": "code",
   "execution_count": 11,
   "metadata": {},
   "outputs": [],
   "source": [
    "with open(mvr_file) as f:\n",
    "    mvr_json = json.load(f)\n",
    "\n",
    "mvr_sample = CVR.from_dict(mvr_json['ballots'])"
   ]
  },
  {
   "cell_type": "markdown",
   "metadata": {},
   "source": [
    "### With replacement"
   ]
  },
  {
   "cell_type": "code",
   "execution_count": 12,
   "metadata": {},
   "outputs": [],
   "source": [
    "risk_fn = lambda x: TestNonnegMean.wald_sprt(np.array(x), N=N_cards, t=t, p1=p1, random_order=False)\n",
    "\n",
    "N_cards = np.inf\n",
    "t=1/2\n",
    "p1=0.60"
   ]
  },
  {
   "cell_type": "code",
   "execution_count": 13,
   "metadata": {
    "tags": []
   },
   "outputs": [
    {
     "output_type": "stream",
     "name": "stdout",
     "text": "maximum assertion p-value 0.0003091284130380668\n"
    }
   ],
   "source": [
    "p_max = find_p_values(contests, all_assertions, risk_fn, manifest_type, mvr_sample)\n",
    "print(\"maximum assertion p-value {}\".format(p_max))\n",
    "np.testing.assert_almost_equal(p_max, (t/p1)**130 * np.divide(1-t, 1-p1)**70)"
   ]
  },
  {
   "cell_type": "markdown",
   "metadata": {},
   "source": [
    "### Without replacement"
   ]
  },
  {
   "cell_type": "code",
   "execution_count": 14,
   "metadata": {},
   "outputs": [],
   "source": [
    "risk_fn = lambda x: TestNonnegMean.kaplan_kolmogorov(np.array(x), N=N_cards, t=t, g=g, random_order=False)\n",
    "\n",
    "N_cards = 10000\n",
    "t=1/2\n",
    "g=0.5"
   ]
  },
  {
   "cell_type": "code",
   "execution_count": 15,
   "metadata": {
    "tags": []
   },
   "outputs": [
    {
     "output_type": "stream",
     "name": "stdout",
     "text": "maximum assertion p-value 0.00726793364131293\n"
    }
   ],
   "source": [
    "p_max = find_p_values(contests, all_assertions, risk_fn, manifest_type, mvr_sample)\n",
    "print(\"maximum assertion p-value {}\".format(p_max))\n",
    "\n",
    "np.testing.assert_almost_equal(p_max, 1.5**-130 * np.prod(np.divide(np.linspace(10000, 9808, 129), \\\n",
    "                                np.arange(9871, 10000))) * 0.5**-70 * (np.prod(np.divide(np.linspace(9806.5, \\\n",
    "                                    9772, 70), np.arange(9801, 9871)))))\n"
   ]
  }
 ],
 "metadata": {
  "kernelspec": {
   "display_name": "Python 3",
   "language": "python",
   "name": "python3"
  },
  "language_info": {
   "codemirror_mode": {
    "name": "ipython",
    "version": 3
   },
   "file_extension": ".py",
   "mimetype": "text/x-python",
   "name": "python",
   "nbconvert_exporter": "python",
   "pygments_lexer": "ipython3",
   "version": "3.7.6-final"
  }
 },
 "nbformat": 4,
 "nbformat_minor": 2
}